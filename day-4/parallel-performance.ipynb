{
 "cells": [
  {
   "cell_type": "markdown",
   "metadata": {},
   "source": [
    "# Parallel performance of a simple Python code\n",
    "Here is a summary of the results from running the `mpi.py´ program."
   ]
  },
  {
   "cell_type": "code",
   "execution_count": null,
   "metadata": {},
   "outputs": [],
   "source": [
    "import math\n",
    "import numpy as np\n",
    "import matplotlib.pyplot as plt\n",
    "plt.rcParams['figure.figsize'] = [12,6]"
   ]
  },
  {
   "cell_type": "code",
   "execution_count": null,
   "metadata": {},
   "outputs": [],
   "source": [
    "# Dave\n",
    "nprocDW = []\n",
    "tsecDW = []"
   ]
  },
  {
   "cell_type": "code",
   "execution_count": null,
   "metadata": {},
   "outputs": [],
   "source": [
    "# Leevi\n",
    "nprocLT = []\n",
    "tsecLT = []"
   ]
  },
  {
   "cell_type": "code",
   "execution_count": null,
   "metadata": {},
   "outputs": [],
   "source": [
    "# Letizia\n",
    "nprocLC = []\n",
    "tsecLC = []"
   ]
  },
  {
   "cell_type": "code",
   "execution_count": null,
   "metadata": {},
   "outputs": [],
   "source": [
    "# Tommi\n",
    "nprocTV = []\n",
    "tsecTV = []"
   ]
  },
  {
   "cell_type": "code",
   "execution_count": null,
   "metadata": {},
   "outputs": [],
   "source": [
    "# Tuija\n",
    "nprocTL = []\n",
    "tsecTL = []"
   ]
  },
  {
   "cell_type": "code",
   "execution_count": null,
   "metadata": {},
   "outputs": [],
   "source": [
    "# Yijun\n",
    "nprocYW = []\n",
    "tsecYW = []"
   ]
  },
  {
   "cell_type": "code",
   "execution_count": null,
   "metadata": {},
   "outputs": [],
   "source": [
    "# Convert to NumPy arrays\n",
    "nprocDW = np.array(nprocDW)\n",
    "tsecDW = np.array(tsecDW)\n",
    "nprocLT = np.array(nprocLT)\n",
    "tsecLT = np.array(tsecLT)\n",
    "nprocLC = np.array(nprocLC)\n",
    "tsecLC = np.array(tsecLC)\n",
    "nprocTV = np.array(nprocTV)\n",
    "tsecTV = np.array(tsecTV)\n",
    "nprocTL = np.array(nprocTL)\n",
    "tsecTL = np.array(tsecTL)\n",
    "nprocYW = np.array(nprocYW)\n",
    "tsecYW = np.array(tsecYW)\n",
    "\n",
    "# Plot data\n",
    "f, (ax1, ax2) = plt.subplots(1, 2)\n",
    "ax1.plot(nprocDW, tsecDW, 'o', label='User 1')\n",
    "ax1.plot(nprocLT, tsecLT, 'o', label='User 2')\n",
    "ax1.plot(nprocLC, tsecLC, 'o', label='User 3')\n",
    "ax1.plot(nprocTV, tsecTV, 'o', label='User 4')\n",
    "ax1.plot(nprocTL, tsecTL, 'o', label='User 5')\n",
    "ax1.plot(nprocYW, tsecYW, 'o', label='User 6')\n",
    "ax1.set_xlabel('Number of cores')\n",
    "ax1.set_ylabel('Calculation time [s]')\n",
    "ax1.set_title('Raw parallel performance')\n",
    "ax1.legend()\n",
    "\n",
    "# Find bounds for reference parallel performance line\n",
    "minx = min(nprocDW.min(), nprocLT.min(), nprocLC.min(), nprocTV.min(), nprocTL.min(), nprocYW.min())\n",
    "miny = min(tsecDW.min(), tsecLT.min(), tsecLC.min(), tsecTV.min(), tsecTL.min(), tsecYW.min())\n",
    "maxy = max(tsecDW.max(), tsecLT.max(), tsecLC.max(), tsecTV.max(), tsecTL.max(), tsecYW.max())\n",
    "maxx = minx + (maxy - miny)\n",
    "ax2.plot([np.log2(minx), np.log2(maxx)], [np.log2(maxy), np.log2(miny)], 'k--', label='Perfect parallelization')\n",
    "\n",
    "ax2.plot(np.log2(nprocDW), np.log2(tsecDW), 'o', label='User 1')\n",
    "ax2.plot(np.log2(nprocLT), np.log2(tsecLT), 'o', label='User 2')\n",
    "ax2.plot(np.log2(nprocLC), np.log2(tsecLC), 'o', label='User 3')\n",
    "ax2.plot(np.log2(nprocTV), np.log2(tsecTV), 'o', label='User 4')\n",
    "ax2.plot(np.log2(nprocTL), np.log2(tsecTL), 'o', label='User 5')\n",
    "ax2.plot(np.log2(nprocYW), np.log2(tsecYW), 'o', label='User 6')\n",
    "\n",
    "ax2.axis('equal')\n",
    "ax2.set_xlabel('log$_{2}$(Number of cores)')\n",
    "ax2.set_ylabel('log$_{2}$(Calculation time) [s]')\n",
    "ax2.set_title('Log$_{2}$ parallel performance')\n",
    "ax2.legend()"
   ]
  }
 ],
 "metadata": {
  "kernelspec": {
   "display_name": "Python 3",
   "language": "python",
   "name": "python3"
  },
  "language_info": {
   "codemirror_mode": {
    "name": "ipython",
    "version": 3
   },
   "file_extension": ".py",
   "mimetype": "text/x-python",
   "name": "python",
   "nbconvert_exporter": "python",
   "pygments_lexer": "ipython3",
   "version": "3.8.2"
  }
 },
 "nbformat": 4,
 "nbformat_minor": 2
}
